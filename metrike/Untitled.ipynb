{
 "cells": [
  {
   "cell_type": "code",
   "execution_count": 1,
   "metadata": {
    "collapsed": true
   },
   "outputs": [],
   "source": [
    "import pandas as pd\n",
    "from sklearn.metrics import accuracy_score, roc_curve, roc_auc_score, log_loss\n",
    "import matplotlib.pyplot as plt\n",
    "import numpy as np\n",
    "from math import exp\n",
    "import csv\n",
    "import itertools"
   ]
  },
  {
   "cell_type": "markdown",
   "metadata": {},
   "source": [
    "#### Parsanje podatkov"
   ]
  },
  {
   "cell_type": "code",
   "execution_count": 25,
   "metadata": {
    "collapsed": false
   },
   "outputs": [],
   "source": [
    "test = pd.read_csv('y.csv', header = None, names = ['real'])\n",
    "test = test.ix[9*(test.shape[0])//10:]"
   ]
  },
  {
   "cell_type": "code",
   "execution_count": 26,
   "metadata": {
    "collapsed": false
   },
   "outputs": [
    {
     "data": {
      "text/html": [
       "<div>\n",
       "<style>\n",
       "    .dataframe thead tr:only-child th {\n",
       "        text-align: right;\n",
       "    }\n",
       "\n",
       "    .dataframe thead th {\n",
       "        text-align: left;\n",
       "    }\n",
       "\n",
       "    .dataframe tbody tr th {\n",
       "        vertical-align: top;\n",
       "    }\n",
       "</style>\n",
       "<table border=\"1\" class=\"dataframe\">\n",
       "  <thead>\n",
       "    <tr style=\"text-align: right;\">\n",
       "      <th></th>\n",
       "      <th>real</th>\n",
       "    </tr>\n",
       "  </thead>\n",
       "  <tbody>\n",
       "    <tr>\n",
       "      <th>900000</th>\n",
       "      <td>1</td>\n",
       "    </tr>\n",
       "    <tr>\n",
       "      <th>900001</th>\n",
       "      <td>-1</td>\n",
       "    </tr>\n",
       "    <tr>\n",
       "      <th>900002</th>\n",
       "      <td>1</td>\n",
       "    </tr>\n",
       "  </tbody>\n",
       "</table>\n",
       "</div>"
      ],
      "text/plain": [
       "        real\n",
       "900000     1\n",
       "900001    -1\n",
       "900002     1"
      ]
     },
     "execution_count": 26,
     "metadata": {},
     "output_type": "execute_result"
    }
   ],
   "source": [
    "test.head(n=3)"
   ]
  },
  {
   "cell_type": "code",
   "execution_count": 6,
   "metadata": {
    "collapsed": false
   },
   "outputs": [
    {
     "data": {
      "text/plain": [
       "100000"
      ]
     },
     "execution_count": 6,
     "metadata": {},
     "output_type": "execute_result"
    }
   ],
   "source": [
    "test.shape[0]"
   ]
  },
  {
   "cell_type": "code",
   "execution_count": 7,
   "metadata": {
    "collapsed": false
   },
   "outputs": [],
   "source": [
    "def txt_to_csv(txt, csv):\n",
    "    data = pd.read_csv(txt, header = None)\n",
    "    sez = [data.iloc[0, i] for i in range(100000)]\n",
    "    sez[0] = float(sez[0][1:])\n",
    "    sez[99999] = float(sez[99999][:-1])\n",
    "    df = pd.DataFrame(sez)\n",
    "    df.to_csv(csv, index=False)       "
   ]
  },
  {
   "cell_type": "code",
   "execution_count": 8,
   "metadata": {
    "collapsed": false
   },
   "outputs": [],
   "source": [
    "txt_to_csv('RFprobas.txt', 'RF.csv')\n",
    "rf = pd.read_csv('RF.csv', header = None)\n",
    "rf = rf.ix[1:]"
   ]
  },
  {
   "cell_type": "code",
   "execution_count": null,
   "metadata": {
    "collapsed": true
   },
   "outputs": [],
   "source": [
    "txt_to_csv('NNpreds.txt', 'NN.csv')\n",
    "nn = pd.read_csv('NN.csv', header = None)\n",
    "nn = nn.ix[1:]"
   ]
  },
  {
   "cell_type": "code",
   "execution_count": null,
   "metadata": {
    "collapsed": true
   },
   "outputs": [],
   "source": [
    "txt_to_csv('NNpreds3.txt', 'NN3.csv')\n",
    "nn3 = pd.read_csv('NN3.csv', header = None)\n",
    "nn3 = nn3.ix[1:]"
   ]
  },
  {
   "cell_type": "code",
   "execution_count": null,
   "metadata": {
    "collapsed": true
   },
   "outputs": [],
   "source": [
    "txt_to_csv('GradientBoostprobas.txt', 'GB.csv')\n",
    "gb = pd.read_csv('GB.csv', header = None)\n",
    "gb = gb.ix[1:]"
   ]
  },
  {
   "cell_type": "markdown",
   "metadata": {},
   "source": [
    "### AUC"
   ]
  },
  {
   "cell_type": "code",
   "execution_count": 24,
   "metadata": {
    "collapsed": false
   },
   "outputs": [
    {
     "name": "stdout",
     "output_type": "stream",
     "text": [
      "('AUC random forest: ', 0.80915464800000003)\n",
      "('AUC neural net: ', 0.77568050779999997)\n",
      "('AUC neural net #3: ', 0.74629224080000001)\n",
      "('AUC gradient boost: ', 0.81579756980000007)\n"
     ]
    }
   ],
   "source": [
    "print('AUC random forest: ', roc_auc_score(test, rf))\n",
    "print('AUC neural net: ', roc_auc_score(test, nn))\n",
    "print('AUC neural net #3: ', roc_auc_score(test, nn3))\n",
    "print('AUC gradient boost: ', roc_auc_score(test, gb))"
   ]
  },
  {
   "cell_type": "markdown",
   "metadata": {},
   "source": [
    "### LOGLOS"
   ]
  },
  {
   "cell_type": "code",
   "execution_count": 33,
   "metadata": {
    "collapsed": false
   },
   "outputs": [
    {
     "name": "stdout",
     "output_type": "stream",
     "text": [
      "('LOGLOSS : ', 0.65526586696567024)\n",
      "('LOGLOSS : ', 5.6669044805582773)\n",
      "('LOGLOSS : ', 5.8293120662375237)\n",
      "('LOGLOSS : ', 0.52901768942061644)\n"
     ]
    }
   ],
   "source": [
    "print('LOGLOSS : ', log_loss(test, rf))\n",
    "print('LOGLOSS : ', log_loss(test, nn))\n",
    "print('LOGLOSS : ', log_loss(test, nn3))\n",
    "print('LOGLOSS : ', log_loss(test, gb))"
   ]
  },
  {
   "cell_type": "markdown",
   "metadata": {},
   "source": [
    "### ROC"
   ]
  },
  {
   "cell_type": "code",
   "execution_count": 27,
   "metadata": {
    "collapsed": true
   },
   "outputs": [],
   "source": [
    "fpr, tpr, thresholds = roc_curve(test, rf, pos_label=1)"
   ]
  },
  {
   "cell_type": "code",
   "execution_count": 35,
   "metadata": {
    "collapsed": false
   },
   "outputs": [],
   "source": [
    "plt.figure()\n",
    "plt.plot(fpr, tpr)\n",
    "plt.savefig('roc_graph_' + 'zemanta' + 'Alt3.pdf')"
   ]
  },
  {
   "cell_type": "code",
   "execution_count": 38,
   "metadata": {
    "collapsed": true
   },
   "outputs": [],
   "source": [
    "fprNN, tprNN, thresholdsNN = roc_curve(test, nn, pos_label=1)"
   ]
  },
  {
   "cell_type": "code",
   "execution_count": 39,
   "metadata": {
    "collapsed": true
   },
   "outputs": [],
   "source": [
    "plt.figure()\n",
    "plt.plot(fprNN, tprNN)\n",
    "plt.savefig('nn_graph_' + 'zemanta' + 'Alt3.pdf')"
   ]
  },
  {
   "cell_type": "markdown",
   "metadata": {},
   "source": [
    "### ACC"
   ]
  },
  {
   "cell_type": "code",
   "execution_count": null,
   "metadata": {
    "collapsed": true
   },
   "outputs": [],
   "source": [
    "# TO DO"
   ]
  },
  {
   "cell_type": "markdown",
   "metadata": {},
   "source": [
    "### ZEMANTA FAJL"
   ]
  },
  {
   "cell_type": "code",
   "execution_count": 12,
   "metadata": {
    "collapsed": true
   },
   "outputs": [],
   "source": [
    "def evaluate_predictors():\n",
    "    test = pd.read_csv('y.csv', header = None, names = ['real'])\n",
    "    zemanta_pred = pd.read_csv('zemanta_napovedi.csv', header = None, names = ['pred'])\n",
    "    log_reg = pd.read_csv('LogRegPredsProbaAlt.txt', header = None, names = ['pred'])\n",
    "    rf = pd.read_csv('RFProbas_alt.txt', header = None, names = ['pred'])\n",
    "    vowpal = pd.read_csv('Vowpal_prob.txt', header = None, names = ['pred'])\n",
    "    vowpal['pred'] = vowpal['pred'].apply(lambda x : float(1) /(1 + exp(-x)))\n",
    "    test = test.iloc[9*len(test)//10:]\n",
    "    zemanta_pred = zemanta_pred.iloc[9*len(zemanta_pred)//10:]\n",
    "    print('AUC : ', roc_auc_score(test, zemanta_pred))\n",
    "    print('AUC : ', roc_auc_score(test, log_reg))\n",
    "    print('AUC : ', roc_auc_score(test, rf))\n",
    "    print('AUC : ', roc_auc_score(test, vowpal))\n",
    "    #print('LOGLOSS : ', log_loss(test, zemanta_pred))\n",
    "    #print('LOGLOSS : ', log_loss(test, log_reg))\n",
    "    \n",
    "    fpr, tpr, thresholds = roc_curve(test, rf, pos_label=1)\n",
    "    \n",
    "#    zem = rf['pred'].values\n",
    "#    tes = test['real'].values\n",
    "#    print('LOGLOSS : ', log_loss(test, zem))\n",
    "#    thresholds = sorted(list(set(zem)))\n",
    "#    print(len(thresholds))\n",
    "#    eps = 0.0001#                y_calib.append(1.0)\n",
    "#    accs = []\n",
    "#    calibration_vector = []\n",
    "#    for thres in thresholds:\n",
    "#        y_pred = []\n",
    "#        y_real = []\n",
    "#        y_calib = []\n",
    "#        y_calib_real = []\n",
    "#        for i in range(len(test)):\n",
    "#            if zem[i] >= thres-eps:\n",
    "#                y_pred.append(1.0)\n",
    "#                y_real.append(tes[i])\n",
    "#            elif zem[i] < 1-thres+eps:\n",
    "#                y_pred.append(0.0)\n",
    "#                y_real.append(tes[i])\n",
    "#            if zem[i] == thres:\n",
    "\n",
    "#                y_calib_real.append(tes[i])\n",
    "#        accs.append(accuracy_score(y_real, y_pred))\n",
    "#        calibration_vector.append(accuracy_score(y_calib_real, y_calib))\n",
    "#    y_pred = []\n",
    "#    y_real = []\n",
    "#    for i in range(len(test)):  \n",
    "#        if zem[i] >= 0.5:\n",
    "#            y_pred.append(1.0)\n",
    "#            y_real.append(tes[i])\n",
    "#        elif zem[i] < 0.5:\n",
    "#            y_pred.append(0.0)\n",
    "#            y_real.append(tes[i])\n",
    "#    print('ACC : ', accuracy_score(y_real, y_pred))\n",
    "#\n",
    "#    \n",
    "#    plt.figure()\n",
    "#    plt.plot(fpr, tpr)\n",
    "#    plt.savefig('roc_graph_' + 'zemanta' + '.pdf')\n",
    "#    plt.figure()\n",
    "#    plt.plot(thresholds, accs)\n",
    "#    plt.savefig('acc_graph_' + 'zemanta' + ' .pdf')    \n",
    "#    plt.figure()\n",
    "#    plt.plot(thresholds, calibration_vector)\n",
    "#    plt.plot([0,1], [0,1])\n",
    "#    plt.savefig('calib_graph_'+ 'zemanta' +'.pdf')\n",
    "    \n",
    "    zem = rf['pred'].values\n",
    "    tes = test['real'].values\n",
    "    print('LOGLOSS : ', log_loss(test, zem))\n",
    "    thresholds = sorted([float(i)/1000 for i in range(1000)])\n",
    "    print(len(thresholds))\n",
    "    eps = 0.0001\n",
    "    accs = []\n",
    "    calibration_vector = []\n",
    "    for thres in thresholds:\n",
    "        y_pred = []\n",
    "        y_real = []\n",
    "        y_calib = []\n",
    "        y_calib_real = []\n",
    "        for i in range(len(test)):\n",
    "            if zem[i] >= thres-eps:\n",
    "                y_pred.append(1.0)\n",
    "                y_real.append(tes[i])\n",
    "            elif zem[i] < 1-thres+eps:\n",
    "                y_pred.append(0.0)\n",
    "                y_real.append(tes[i])\n",
    "            if zem[i] == thres:\n",
    "                y_calib.append(1.0)\n",
    "                y_calib_real.append(tes[i])\n",
    "        accs.append(accuracy_score(y_real, y_pred))\n",
    "        calibration_vector.append(accuracy_score(y_calib_real, y_calib))\n",
    "    y_pred = []\n",
    "    y_real = []\n",
    "    for i in range(len(test)):  \n",
    "        if zem[i] >= 0.5:\n",
    "            y_pred.append(1.0)\n",
    "            y_real.append(tes[i])\n",
    "        elif zem[i] < 0.5:\n",
    "            y_pred.append(0.0)\n",
    "            y_real.append(tes[i])\n",
    "    print('ACC : ', accuracy_score(y_real, y_pred))\n",
    "\n",
    "    \n",
    "    plt.figure()\n",
    "    plt.plot(fpr, tpr)\n",
    "    plt.savefig('roc_graph_' + 'zemanta' + 'Alt3.pdf')\n",
    "    plt.figure()\n",
    "    plt.plot(thresholds, accs)\n",
    "    plt.savefig('acc_graph_' + 'zemanta' + 'Alt3.pdf')    \n",
    "    plt.figure()\n",
    "    plt.plot(thresholds, calibration_vector)\n",
    "    plt.plot([0,1], [0,1])\n",
    "    plt.savefig('calib_graph_'+ 'zemanta' +'Alt3.pdf')"
   ]
  }
 ],
 "metadata": {
  "kernelspec": {
   "display_name": "Python 2",
   "language": "python",
   "name": "python2"
  },
  "language_info": {
   "codemirror_mode": {
    "name": "ipython",
    "version": 2
   },
   "file_extension": ".py",
   "mimetype": "text/x-python",
   "name": "python",
   "nbconvert_exporter": "python",
   "pygments_lexer": "ipython2",
   "version": "2.7.13"
  }
 },
 "nbformat": 4,
 "nbformat_minor": 2
}
